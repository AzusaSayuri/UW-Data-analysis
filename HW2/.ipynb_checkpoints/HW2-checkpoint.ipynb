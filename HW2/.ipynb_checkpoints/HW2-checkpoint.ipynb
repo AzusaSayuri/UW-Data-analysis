{
 "cells": [
  {
   "cell_type": "markdown",
   "metadata": {},
   "source": [
    "LAB2.0:https://mountain-hydrology-research-group.github.io/data-analysis/labs/lab2.0/\n",
    "\n",
    "# Problem 1, Use Sauk peak flow data updated through water year 2017 (in folder):\n",
    "\n",
    " \n",
    "\n"
   ]
  },
  {
   "cell_type": "markdown",
   "metadata": {},
   "source": [
    "A) Decide which of your plots from Homework 1 are relevant to the questions of whether a change in flood statistics occurred in the Sauk around 1977. Include these graphs here and discuss what you can see visually in the graphs that would lead you to believe that a change has or has not occurred."
   ]
  },
  {
   "cell_type": "code",
   "execution_count": 1,
   "metadata": {},
   "outputs": [
    {
     "data": {
      "text/html": [
       "<img src='Fig8.png'>\n"
      ],
      "text/plain": [
       "<IPython.core.display.HTML object>"
      ]
     },
     "metadata": {},
     "output_type": "display_data"
    }
   ],
   "source": [
    "%%html\n",
    "<img src='Fig8.png'>"
   ]
  },
  {
   "cell_type": "code",
   "execution_count": 2,
   "metadata": {},
   "outputs": [
    {
     "data": {
      "text/html": [
       "<img src='Fig9.png'>\n"
      ],
      "text/plain": [
       "<IPython.core.display.HTML object>"
      ]
     },
     "metadata": {},
     "output_type": "display_data"
    }
   ],
   "source": [
    "%%html\n",
    "<img src='Fig9.png'>"
   ]
  },
  {
   "cell_type": "markdown",
   "metadata": {},
   "source": [
    "# <font color='red'>Answer\n",
    "Dividing by 1975, we can see that the overall peak flows before 1975 are much lower than after 1975 (by Fig. 9), which suggests that the peak flows before that time point has a lower average and lower maximum. However when comparing the CDF trend for before/after 1975 (by Fig. 8) we can tell that the trend after 1975 is very near to the whole period change, which suggests that there is a change before 1975 comparing to the whole periods. It was these overall peak value behaviors change make me believe that there was a change happened at the 1975."
   ]
  },
  {
   "cell_type": "markdown",
   "metadata": {},
   "source": [
    "B) [Make sure you are using the updated data through 2017.] Postulating a change in flood statistics around 1977, test for statistical significance of the observed change in the mean annual flood. Use a two sample test, and alpha = 0.05 (i.e. 95% confidence) and the z distribution to define the rejection region (why is this appropriate?). Compare the period from 1977-2017 to the data from 1929-1976, accounting for the different sample sizes and sample standard deviations appropriately. For your null hypothesis, postulate that the difference between the two means = 0, and state the alternative hypothesis that the difference has changed (although you don’t know the direction of this change) and the appropriate test statistic. Can you reject the null hypothesis? Calculate P. How would your estimate of P change if your null hypothesis is that the difference in the mean between the two data sets is equal to 15% of the pre-1977 sample mean? (In other words, the null hypothesis is that the mean of the second period is 1.2 times the mean of the first period.)"
   ]
  },
  {
   "cell_type": "code",
   "execution_count": 3,
   "metadata": {},
   "outputs": [],
   "source": [
    "import pandas as pd\n",
    "\n",
    "# To plot\n",
    "import matplotlib.pyplot as plt\n",
    "import numpy as np\n",
    "\n",
    "import math\n",
    "import scipy.stats as st\n",
    "import statistics as stats\n",
    "from scipy.interpolate import interp1d\n",
    "import scipy\n",
    "\n",
    "%matplotlib inline\n",
    "\n",
    "# Module with normal gaussian curve function.\n",
    "# Since we don't need the entire scipy.stats library, we add \"import norm\" \n",
    "# to only import the norm function.\n",
    "from scipy.stats import norm"
   ]
  },
  {
   "cell_type": "code",
   "execution_count": 4,
   "metadata": {},
   "outputs": [],
   "source": [
    "%matplotlib inline"
   ]
  },
  {
   "cell_type": "code",
   "execution_count": 5,
   "metadata": {},
   "outputs": [
    {
     "data": {
      "text/html": [
       "<div>\n",
       "<style scoped>\n",
       "    .dataframe tbody tr th:only-of-type {\n",
       "        vertical-align: middle;\n",
       "    }\n",
       "\n",
       "    .dataframe tbody tr th {\n",
       "        vertical-align: top;\n",
       "    }\n",
       "\n",
       "    .dataframe thead th {\n",
       "        text-align: right;\n",
       "    }\n",
       "</style>\n",
       "<table border=\"1\" class=\"dataframe\">\n",
       "  <thead>\n",
       "    <tr style=\"text-align: right;\">\n",
       "      <th></th>\n",
       "      <th>water_year</th>\n",
       "      <th>peak_dt</th>\n",
       "      <th>peak_va</th>\n",
       "      <th>gage_ht</th>\n",
       "    </tr>\n",
       "  </thead>\n",
       "  <tbody>\n",
       "    <tr>\n",
       "      <th>7</th>\n",
       "      <td>1929</td>\n",
       "      <td>1928-10-09 00:00:00</td>\n",
       "      <td>21800</td>\n",
       "      <td>9.33</td>\n",
       "    </tr>\n",
       "    <tr>\n",
       "      <th>8</th>\n",
       "      <td>1930</td>\n",
       "      <td>1930-02-05 00:00:00</td>\n",
       "      <td>15200</td>\n",
       "      <td>7.99</td>\n",
       "    </tr>\n",
       "    <tr>\n",
       "      <th>9</th>\n",
       "      <td>1931</td>\n",
       "      <td>1931-01-28 00:00:00</td>\n",
       "      <td>21800</td>\n",
       "      <td>9.32</td>\n",
       "    </tr>\n",
       "    <tr>\n",
       "      <th>10</th>\n",
       "      <td>1932</td>\n",
       "      <td>1932-02-26 00:00:00</td>\n",
       "      <td>68500</td>\n",
       "      <td>15.83</td>\n",
       "    </tr>\n",
       "    <tr>\n",
       "      <th>11</th>\n",
       "      <td>1933</td>\n",
       "      <td>1932-11-13 00:00:00</td>\n",
       "      <td>42500</td>\n",
       "      <td>12.62</td>\n",
       "    </tr>\n",
       "  </tbody>\n",
       "</table>\n",
       "</div>"
      ],
      "text/plain": [
       "   water_year              peak_dt peak_va gage_ht\n",
       "7        1929  1928-10-09 00:00:00   21800    9.33\n",
       "8        1930  1930-02-05 00:00:00   15200    7.99\n",
       "9        1931  1931-01-28 00:00:00   21800    9.32\n",
       "10       1932  1932-02-26 00:00:00   68500   15.83\n",
       "11       1933  1932-11-13 00:00:00   42500   12.62"
      ]
     },
     "execution_count": 5,
     "metadata": {},
     "output_type": "execute_result"
    }
   ],
   "source": [
    "#import dataset\n",
    "df_sauk=pd.read_excel('Sauk_peak_WY1929_2017.xlsx')\n",
    "df_skykomish=pd.read_excel('Skykomish_peak_flow_12134500_skykomish_river_near_gold_bar.xlsx')\n",
    "#rearrange the data so can be used in python\n",
    "df_sk=pd.DataFrame.copy(df_sauk.loc[7:,:])\n",
    "df_sk.columns=list(df_sauk.loc[5,:])\n",
    "df_sk.head()"
   ]
  },
  {
   "cell_type": "code",
   "execution_count": 6,
   "metadata": {},
   "outputs": [],
   "source": [
    "df_sk_b=df_sk[df_sk['water_year']<1977]\n",
    "df_sk_a=df_sk[df_sk['water_year']>=1977]"
   ]
  },
  {
   "cell_type": "markdown",
   "metadata": {},
   "source": [
    "## Z-Distribution\n",
    "### Return to our question, what are we trying to do?  We are postulating (making a hypothesis) that there was a change in the mean flood statistics after 1975, and we want to test whether this is true.  Where do we start?\n",
    "First, we need to create a null and an alternative hypothesis.  We were told to use a two sample test, and to set $\\alpha$ at 5%.\n",
    "\n",
    "$H_0: \\mu_{early} = \\mu_{late}$\n",
    "\n",
    "$H_1: \\mu_{late} > \\mu_{early}$\n"
   ]
  },
  {
   "cell_type": "code",
   "execution_count": 7,
   "metadata": {},
   "outputs": [
    {
     "name": "stdout",
     "output_type": "stream",
     "text": [
      "41\n",
      "48\n"
     ]
    }
   ],
   "source": [
    "# Check that we have a large enough sample size (n>30)\n",
    "n = len(df_sk_a['peak_va'])\n",
    "m = len(df_sk_b['peak_va'])\n",
    "print(n)\n",
    "print(m)"
   ]
  },
  {
   "cell_type": "code",
   "execution_count": 8,
   "metadata": {},
   "outputs": [
    {
     "name": "stdout",
     "output_type": "stream",
     "text": [
      "z_alpha =\n",
      "1.6448536269514722\n",
      "z_test =\n",
      "2.400081202177976\n",
      "p = \n",
      "0.008195717617149878\n"
     ]
    }
   ],
   "source": [
    "# We're okay, both are longer than 30, so Calculate the z-test, p-value\n",
    "\n",
    "# if alpha is set at 0.5, the confidence is 1-alpha:\n",
    "conf = 0.95\n",
    "\n",
    "# Out null hypothesis is no change, so mu_late - mu_early = 0\n",
    "delta_0 = 0\n",
    "\n",
    "# We determine which value in the z-distribution corresponds to 0.95 in the cdf\n",
    "z_alpha = st.norm.ppf(conf)\n",
    "print(\"z_alpha =\") \n",
    "print(z_alpha)\n",
    "\n",
    "mean1 = stats.mean(df_sk_b['peak_va'])\n",
    "mean2 = stats.mean(df_sk_a['peak_va'])\n",
    "\n",
    "sd1 = stats.stdev(df_sk_b['peak_va'])\n",
    "sd2 = stats.stdev(df_sk_a['peak_va'])\n",
    "\n",
    "pooled_sd = math.sqrt(sd1**2/m + sd2**2/n)\n",
    "\n",
    "ztest = (mean2 - mean1 - delta_0)/pooled_sd\n",
    "\n",
    "print(\"z_test =\") \n",
    "print(ztest)\n",
    "p = 1 - st.norm.cdf(ztest)\n",
    "print(\"p = \")\n",
    "print(p)"
   ]
  },
  {
   "cell_type": "code",
   "execution_count": 9,
   "metadata": {},
   "outputs": [
    {
     "data": {
      "text/plain": [
       "<matplotlib.legend.Legend at 0x1d82ac92f28>"
      ]
     },
     "execution_count": 9,
     "metadata": {},
     "output_type": "execute_result"
    },
    {
     "data": {
      "image/png": "[encoded data removed]",
      "text/plain": [
       "<matplotlib.figure.Figure at 0x1d828c37390>"
      ]
     },
     "metadata": {
      "needs_background": "light"
     },
     "output_type": "display_data"
    }
   ],
   "source": [
    "# Plot the results\n",
    "\n",
    "plt.figure(figsize=(10,5))\n",
    "\n",
    "x = np.linspace(-4, 4, num=160)\n",
    "x = [i * pooled_sd for i in x]\n",
    "\n",
    "plt.plot(x, st.norm.pdf(x, 0, pooled_sd), label='Null PDF: (x-bar - y-bar) = 0')\n",
    "plt.axvline(z_alpha*pooled_sd, color='black', label='Z_alpha')\n",
    "plt.axvline(ztest*pooled_sd, color='red', label='Z_test')\n",
    "plt.xlabel('(x-bar - y-bar) [cfs]')\n",
    "plt.ylabel('PDF')\n",
    "plt.ticklabel_format(axis='x', style='sci', scilimits=(0,0))\n",
    "plt.ticklabel_format(axis='y', style='sci', scilimits=(0,0))\n",
    "plt.ylim(0,1e-4)\n",
    "plt.legend(loc='best')"
   ]
  },
  {
   "cell_type": "markdown",
   "metadata": {},
   "source": [
    "## As the results shows, since P=0.008<0.05, we rejected the null hypothesis within the 95% confidence."
   ]
  },
  {
   "cell_type": "markdown",
   "metadata": {},
   "source": [
    "How would your estimate of P change if your null hypothesis is that the difference in the mean between the two data sets is equal to 15% of the pre-1977 sample mean? (In other words, the null hypothesis is that the mean of the second period is 1.15 times the mean of the first period.)"
   ]
  },
  {
   "cell_type": "code",
   "execution_count": 10,
   "metadata": {},
   "outputs": [
    {
     "name": "stdout",
     "output_type": "stream",
     "text": [
      "11613.061173376587 1.2673764921186104 5298.942073170729\n"
     ]
    }
   ],
   "source": [
    "# Calculate the z-test, p-value\n",
    "\n",
    "# Now, our change is not 0.  From the question we got to know that second period=1.2*first period\n",
    "#Now we think mu_late - mu_early = 0.20*mu_early\n",
    "delta = .15 * mean1\n",
    "\n",
    "z_alpha_2 = st.norm.ppf(conf, delta, pooled_sd)\n",
    "# Note that this one is different from the one aboee because the delta and sd are\n",
    "# included in the function\n",
    "\n",
    "ztest2 = (mean2 - mean1 - delta)/pooled_sd\n",
    "\n",
    "p_2 = 1 - st.norm.cdf(ztest)\n",
    "\n",
    "print(z_alpha_2, ztest2, ztest2*pooled_sd)"
   ]
  },
  {
   "cell_type": "code",
   "execution_count": 11,
   "metadata": {},
   "outputs": [
    {
     "name": "stdout",
     "output_type": "stream",
     "text": [
      "p = \n",
      "0.10251035064422709\n"
     ]
    }
   ],
   "source": [
    "#Calculate P value in the new hypothesis\n",
    "p = 1 - st.norm.cdf(ztest2)\n",
    "print(\"p = \")\n",
    "print(p)"
   ]
  },
  {
   "cell_type": "code",
   "execution_count": 12,
   "metadata": {},
   "outputs": [
    {
     "data": {
      "text/plain": [
       "<matplotlib.legend.Legend at 0x1d82bd17be0>"
      ]
     },
     "execution_count": 12,
     "metadata": {},
     "output_type": "execute_result"
    },
    {
     "data": {
      "image/png": "[encoded data removed]",
      "text/plain": [
       "<matplotlib.figure.Figure at 0x1d82bcd8b38>"
      ]
     },
     "metadata": {
      "needs_background": "light"
     },
     "output_type": "display_data"
    }
   ],
   "source": [
    "# Plot the results\n",
    "\n",
    "plt.figure(figsize=(10,5))\n",
    "\n",
    "plt.plot(x, st.norm.pdf(x, delta, pooled_sd), label='Null PDF: (x-bar - y-bar) = 0.1*x-bar')\n",
    "plt.axvline(z_alpha_2, color='black', label='Z_alpha')\n",
    "plt.axvline(ztest2*pooled_sd, color='red', label='Z_test')\n",
    "plt.xlabel('(x-bar - y-bar) [cfs]')\n",
    "plt.ylabel('PDF')\n",
    "plt.ticklabel_format(axis='x', style='sci', scilimits=(0,0))\n",
    "plt.ticklabel_format(axis='y', style='sci', scilimits=(0,0))\n",
    "plt.ylim(0,1e-4)\n",
    "plt.legend(loc='best')"
   ]
  },
  {
   "cell_type": "markdown",
   "metadata": {},
   "source": [
    "Lab3 for this question: https://mountain-hydrology-research-group.github.io/data-analysis/labs/lab3.0/\n",
    "\n",
    "C) What is the type II error and power for your test on the mean in the first part of B above? To answer this, assume that the true mean has in fact increased by 15%, and the pooled standard deviation has increased by a factor of 1.15. In other words, assume that the “true” mean is 1.15 times the 1929-1976 mean, and that the “true” pooled standard deviation is 1.15 times sigma prime (our test estimate of pooled estimator for the two observed data sets). Draw a graphic to represent this true distribution, and draw where your test statistic falls on this graph. Color the area of the graph that represents type II error. Then answer the question (what is the type II error and power for your test in part B)."
   ]
  },
  {
   "cell_type": "code",
   "execution_count": 13,
   "metadata": {},
   "outputs": [
    {
     "name": "stdout",
     "output_type": "stream",
     "text": [
      "0.33734349191819\n"
     ]
    }
   ],
   "source": [
    "#all the parameters including means and stdevs and m/n can be adopted from previous question\n",
    "conf = .95\n",
    "\n",
    "z_alpha = st.norm.ppf(conf)\n",
    "\n",
    "pooled_sd = math.sqrt(sd1**2/n + sd2**2/m)\n",
    "\n",
    "#True means were increased by 0.15 times and true pooled stdev is 1.15 times\n",
    "delta_star = .15 * mean1\n",
    "\n",
    "sigma_star = 1.15 * pooled_sd\n",
    "\n",
    "z_eff = (z_alpha*pooled_sd - delta_star) / sigma_star\n",
    "\n",
    "beta = st.norm.cdf(z_eff)\n",
    "\n",
    "power = 1 - beta\n",
    "\n",
    "print (power)"
   ]
  },
  {
   "cell_type": "code",
   "execution_count": 14,
   "metadata": {},
   "outputs": [
    {
     "data": {
      "text/plain": [
       "Text(0.25,3e-05,'Type II Error')"
      ]
     },
     "execution_count": 14,
     "metadata": {},
     "output_type": "execute_result"
    },
    {
     "data": {
      "image/png": "[encoded data removed]",
      "text/plain": [
       "<matplotlib.figure.Figure at 0x1d82bd741d0>"
      ]
     },
     "metadata": {
      "needs_background": "light"
     },
     "output_type": "display_data"
    }
   ],
   "source": [
    "# Make a plot\n",
    "\n",
    "plt.figure(1,figsize=(10,5))\n",
    "\n",
    "x = np.linspace(-4, 4, num=160)\n",
    "x = [i * pooled_sd for i in x]\n",
    "    \n",
    "plt.plot(x, st.norm.pdf(x, 0, pooled_sd), label='Null PDF: (x-bar - y-bar) = 0')\n",
    "plt.plot(x, st.norm.pdf(x, delta_star, sigma_star), color='red', label=r'True PDF: (x-bar - y-bar) = $\\delta$')\n",
    "plt.axvline(z_alpha*pooled_sd, color='black', label=r'Z$_\\alpha$')\n",
    "plt.title('Type II Error')\n",
    "plt.xlabel('(x-bar - y-bar) [cfs]')\n",
    "plt.ylabel('PDF')\n",
    "plt.ticklabel_format(axis='x', style='sci', scilimits=(0,0))\n",
    "plt.text(-15000, 6e-5, r'Z$_eff$ = ' + str(round(z_eff,2)))\n",
    "plt.text(-15000, 5e-5, 'beta = ' + str(round(beta,2)))\n",
    "plt.ylim(0, 10e-5)\n",
    "plt.legend(loc='best')\n",
    "y=st.norm.pdf(x, delta_star, sigma_star)\n",
    "plt.fill_between(x,y, where=x<=(z_alpha*pooled_sd),interpolate=True,facecolor='blue', alpha=0.3)\n",
    "plt.text(0.25, 3e-5, 'Type II Error')"
   ]
  },
  {
   "cell_type": "markdown",
   "metadata": {},
   "source": [
    "C) What is the type II error and power for your test on the mean in the first part of B above? \n",
    "\n",
    "# <font color = 'red'>Answer\n",
    "    \n",
    "    A Type II error occurs when the researcher accepts a null hypothesis that is false. The power for the test is 0.33734349191819\n",
    "    "
   ]
  },
  {
   "cell_type": "markdown",
   "metadata": {},
   "source": [
    "D) Now test the significance of the change in the mean between the two sample periods using the two-sample Wilcoxan Rank Sum test. <font color = 'red'>How different is your conclusion from the one in part B. (i.e. compare P for the two tests)."
   ]
  },
  {
   "cell_type": "code",
   "execution_count": 15,
   "metadata": {},
   "outputs": [],
   "source": [
    "# Use scipy.stats.wilcoxon()\n",
    "\n",
    "w, p_w = st.ranksums(df_sk_b['peak_va'], df_sk_a['peak_va'])\n",
    "\n",
    "z_w = st.norm.ppf(1-p_w)"
   ]
  },
  {
   "cell_type": "code",
   "execution_count": 16,
   "metadata": {},
   "outputs": [
    {
     "data": {
      "text/plain": [
       "<matplotlib.legend.Legend at 0x1d82be95240>"
      ]
     },
     "execution_count": 16,
     "metadata": {},
     "output_type": "execute_result"
    },
    {
     "data": {
      "image/png": "[encoded data removed]",
      "text/plain": [
       "<matplotlib.figure.Figure at 0x1d82be084e0>"
      ]
     },
     "metadata": {
      "needs_background": "light"
     },
     "output_type": "display_data"
    }
   ],
   "source": [
    "# Plot\n",
    "\n",
    "plt.figure(1,figsize=(10,5))\n",
    "\n",
    "mean_w = np.linspace(-4, 4, num=160)\n",
    "\n",
    "plt.plot(mean_w, st.norm.pdf(mean_w), label='Null PDF: (x-bar - y-bar)')\n",
    "plt.axvline(z_alpha, color='black', label=r'Z$_\\alpha$')\n",
    "plt.axvline(z_w, color='red', label=r'Z$_w$')\n",
    "plt.title('Wilcoxan Rank Sum Test')\n",
    "plt.xlabel('Z')\n",
    "plt.ylabel('PDF')\n",
    "plt.ylim(0, max(st.norm.pdf(mean_w)))\n",
    "plt.legend(loc='best')"
   ]
  },
  {
   "cell_type": "markdown",
   "metadata": {},
   "source": [
    "<font color='red'>E) Lastly test for statistical significance of a change in the standard deviation. Even though it is not strictly true, assume for the moment that the sample data are derived from a normally distributed population. (We will follow up on the importance of this assumption in problem 2.) Use a single sample test (with rejection region based on the Chi Squared distribution). Assume that the sample standard deviation that you calculated from the 1929-1976 data is close to the true population standard deviation that you are testing for a change from."
   ]
  },
  {
   "cell_type": "markdown",
   "metadata": {},
   "source": [
    "# Problem 2: Monte Carlo Tests\n",
    "\n",
    " \n",
    "\n",
    "In this exercise we will estimate the statistical significance of the changes in the mean and standard deviation in Problem 1 using a Monte Carlo approach.\n",
    "\n",
    "Conduct the analysis for the Sauk Data peak flows for water years 1929 to 2017. Start by creating CDFs of annual peak flow for the two periods of analysis in Problem 1, using the Cunnane quantile estimator discussed in class. Note: If you are using VLOOKUP in Excel, you will need to linearly extend your CDF to 0 and 1 so that you can translate all values.\n",
    "\n"
   ]
  },
  {
   "cell_type": "code",
   "execution_count": 17,
   "metadata": {},
   "outputs": [
    {
     "data": {
      "text/plain": [
       "(0, 115731.6)"
      ]
     },
     "execution_count": 17,
     "metadata": {},
     "output_type": "execute_result"
    },
    {
     "data": {
      "image/png": "[encoded data removed]",
      "text/plain": [
       "<matplotlib.figure.Figure at 0x1d82beec2e8>"
      ]
     },
     "metadata": {
      "needs_background": "light"
     },
     "output_type": "display_data"
    }
   ],
   "source": [
    "# Start with empirical CDFs\n",
    "\n",
    "# The function takes an array of data as an argument and returns the data\n",
    "# as an ordered array and the plotting position associated with each data point.\n",
    "def quantile_fn(data):\n",
    "\n",
    "    ordered_data = sorted(data)\n",
    "    n = len(ordered_data)\n",
    "\n",
    "    rank = []\n",
    "    plotting_position = []\n",
    "    for i in range(n):\n",
    "        rank.append(i+1)\n",
    "        # Using the Cunnane plotting position.\n",
    "        plotting_position.append((rank[i]-.4)/(n+.2))\n",
    "        \n",
    "    return ordered_data, plotting_position\n",
    "\n",
    "data = df_sk['peak_va']\n",
    "\n",
    "x_ordered, x_plotting = quantile_fn(data)\n",
    "x_CDF = [1 - i for i in x_plotting]\n",
    "\n",
    "x_ordered.reverse()\n",
    "\n",
    "# Extrapolate linearly to 0 and 1\n",
    "xsort_first = x_ordered[0] + (x_ordered[0]-x_ordered[1]) * (1-x_CDF[0])/(x_CDF[0]-x_CDF[1])\n",
    "xsort_last = x_ordered[len(x_ordered)-1] - (x_ordered[len(x_ordered)-1] - x_ordered[len(x_ordered)-2]) * x_CDF[len(x_CDF)-1]/(x_CDF[len(x_CDF)-1]- x_CDF[len(x_CDF)-2])\n",
    "xsort = [xsort_first]\n",
    "xsort.extend(x_ordered)\n",
    "xsort.append(xsort_last)\n",
    "\n",
    "x_CDF.insert(0, 1)\n",
    "x_CDF.append(0)\n",
    "                                    \n",
    "# Plot\n",
    "plt.figure(figsize=(10,5))\n",
    "plt.plot(x_CDF, xsort, color='black')\n",
    "plt.ylabel('peak annual discharge (cfs)')\n",
    "plt.xlabel('cumulative probability (or probability of non-exceedance)')\n",
    "plt.title('Sauk Peak Flows, 1929-2017')\n",
    "plt.ticklabel_format(axis='y', style='sci', scilimits=(0,0))\n",
    "plt.ylim(0, )"
   ]
  },
  {
   "cell_type": "markdown",
   "metadata": {},
   "source": [
    "\n",
    "\n",
    "A) Generate 500 samples, each with n = 41 (the length of the 1977-2017 dataset), assuming the CDF from the 1929-1976 data from problem 1. Use the uniform random number generator in Matlab (or Excel if you are struggling with Matlab, although it will take longer in Excel) and the CDF you created above, following the methods discussed in class (see the sample spreadsheet referenced in the notes for specific coding details)."
   ]
  },
  {
   "cell_type": "code",
   "execution_count": 18,
   "metadata": {},
   "outputs": [],
   "source": [
    "# Generate 500 random samples with n=41 assuming CDF from early period\n",
    "\n",
    "q = np.random.random_sample((500, 41))\n",
    "q = q.tolist()\n",
    "\n",
    "f = interp1d(x_CDF, xsort)\n",
    "\n",
    "Q = []\n",
    "Q.extend(f(q))\n",
    "\n",
    "# Calculate the mean and standard deviation of each sample\n",
    "\n",
    "Q_mean = np.mean(Q, axis=1)\n",
    "Q_sd = np.std(Q, axis=1)\n",
    "\n",
    "Q_mean = Q_mean.tolist()\n",
    "Q_sd = Q_sd.tolist()"
   ]
  },
  {
   "cell_type": "markdown",
   "metadata": {},
   "source": [
    "B) For each of the 500 samples, calculate the sample mean and standard deviation."
   ]
  },
  {
   "cell_type": "code",
   "execution_count": 19,
   "metadata": {},
   "outputs": [
    {
     "data": {
      "image/png": "[encoded data removed]",
      "text/plain": [
       "<matplotlib.figure.Figure at 0x1d82bff80b8>"
      ]
     },
     "metadata": {
      "needs_background": "light"
     },
     "output_type": "display_data"
    }
   ],
   "source": [
    "# Plot histograms for mean and sd\n",
    "nbins = 10\n",
    "\n",
    "fig, axs = plt.subplots(2, 1)\n",
    "fig.subplots_adjust(hspace=1)\n",
    "\n",
    "axs[0].hist(Q_mean, nbins, ec=\"black\")\n",
    "axs[0].set_title('Means')\n",
    "axs[0].set_xlabel('(a) Peak Flow (cfs)')\n",
    "axs[0].set_ylabel('Count')\n",
    "axs[0].ticklabel_format(axis='x', style='sci', scilimits=(0,0))\n",
    "\n",
    "axs[1].hist(Q_sd, nbins, ec=\"black\")\n",
    "axs[1].set_title('(b) Standard Deviations')\n",
    "axs[1].set_xlabel('Peak Flow (cfs)')\n",
    "axs[1].set_ylabel('Count')\n",
    "axs[1].ticklabel_format(axis='x', style='sci', scilimits=(0,0))"
   ]
  },
  {
   "cell_type": "markdown",
   "metadata": {},
   "source": [
    "C) Take the 500 sample means and sample standard deviations from part B and fit an unbiased quantile estimator to them to obtain a CDF of the means and standard deviations."
   ]
  },
  {
   "cell_type": "code",
   "execution_count": 20,
   "metadata": {},
   "outputs": [
    {
     "data": {
      "text/plain": [
       "(0, 1)"
      ]
     },
     "execution_count": 20,
     "metadata": {},
     "output_type": "execute_result"
    },
    {
     "data": {
      "image/png": "[encoded data removed]",
      "text/plain": [
       "<matplotlib.figure.Figure at 0x1d82c0df160>"
      ]
     },
     "metadata": {
      "needs_background": "light"
     },
     "output_type": "display_data"
    }
   ],
   "source": [
    "# Plot CDFs for mean and sd\n",
    "\n",
    "mean_ordered, mean_plotting = quantile_fn(Q_mean)\n",
    "mean_CDF = [1 - i for i in mean_plotting]\n",
    "\n",
    "mean_ordered.reverse()\n",
    "\n",
    "meansort_first = mean_ordered[0] + (mean_ordered[0]-mean_ordered[1]) * (1-mean_CDF[0])/(mean_CDF[0]-mean_CDF[1])\n",
    "meansort_last = mean_ordered[len(mean_ordered)-1] - (mean_ordered[len(mean_ordered)-1] - mean_ordered[len(mean_ordered)-2]) * mean_CDF[len(mean_CDF)-1]/(mean_CDF[len(mean_CDF)-1]- mean_CDF[len(mean_CDF)-2])\n",
    "meansort = [meansort_first]\n",
    "meansort.extend(mean_ordered)\n",
    "meansort.append(meansort_last)\n",
    "\n",
    "mean_CDF.insert(0, 1)\n",
    "mean_CDF.append(0)\n",
    "\n",
    "sd_ordered, sd_plotting = quantile_fn(Q_sd)\n",
    "sd_CDF = [1 - j for j in sd_plotting]\n",
    "\n",
    "sd_ordered.reverse()\n",
    "\n",
    "sdsort_first = sd_ordered[0] + (sd_ordered[0]-sd_ordered[1]) * (1-sd_CDF[0])/(sd_CDF[0]-sd_CDF[1])\n",
    "sdsort_last = sd_ordered[len(sd_ordered)-1] - (sd_ordered[len(sd_ordered)-1] - sd_ordered[len(sd_ordered)-2]) * sd_CDF[len(sd_CDF)-1]/(sd_CDF[len(sd_CDF)-1]- sd_CDF[len(sd_CDF)-2])\n",
    "sdsort = [sdsort_first]\n",
    "sdsort.extend(sd_ordered)\n",
    "sdsort.append(sdsort_last)\n",
    "\n",
    "sd_CDF.insert(0, 1)\n",
    "sd_CDF.append(0)\n",
    "                                    \n",
    "# Plot\n",
    "fig, axs = plt.subplots(2, 1)\n",
    "fig.subplots_adjust(hspace=1)\n",
    "\n",
    "axs[0].plot(meansort, mean_CDF)\n",
    "axs[0].set_xlabel('Mean pre-1977 flood (cfs)')\n",
    "axs[0].set_ylabel('CDF')\n",
    "axs[0].ticklabel_format(axis='x', style='sci', scilimits=(0,0))\n",
    "axs[0].set_xlim(28000, 46000)\n",
    "axs[0].set_ylim(0, 1)\n",
    "\n",
    "axs[1].plot(sdsort, sd_CDF)\n",
    "axs[1].set_xlabel('Standard Deviation pre-1977 flood (cfs)')\n",
    "axs[1].set_ylabel('CDF')\n",
    "axs[1].ticklabel_format(axis='x', style='sci', scilimits=(0,0))\n",
    "axs[1].set_xlim(12000,28000)\n",
    "axs[1].set_ylim(0,1)"
   ]
  },
  {
   "cell_type": "markdown",
   "metadata": {},
   "source": [
    "D) Extract the upper tailed 95% confidence value from this CDF for the mean and standard deviations (i.e. make a table of quantiles close to 0.95 and their associated values)"
   ]
  },
  {
   "cell_type": "code",
   "execution_count": 26,
   "metadata": {},
   "outputs": [
    {
     "data": {
      "text/html": [
       "<div>\n",
       "<style scoped>\n",
       "    .dataframe tbody tr th:only-of-type {\n",
       "        vertical-align: middle;\n",
       "    }\n",
       "\n",
       "    .dataframe tbody tr th {\n",
       "        vertical-align: top;\n",
       "    }\n",
       "\n",
       "    .dataframe thead th {\n",
       "        text-align: right;\n",
       "    }\n",
       "</style>\n",
       "<table border=\"1\" class=\"dataframe\">\n",
       "  <thead>\n",
       "    <tr style=\"text-align: right;\">\n",
       "      <th></th>\n",
       "      <th>Sorted mean</th>\n",
       "      <th>mean_CDF</th>\n",
       "    </tr>\n",
       "  </thead>\n",
       "  <tbody>\n",
       "    <tr>\n",
       "      <th>0</th>\n",
       "      <td>46387.654741</td>\n",
       "      <td>1.000000</td>\n",
       "    </tr>\n",
       "    <tr>\n",
       "      <th>1</th>\n",
       "      <td>46312.470576</td>\n",
       "      <td>0.998800</td>\n",
       "    </tr>\n",
       "    <tr>\n",
       "      <th>2</th>\n",
       "      <td>46187.163635</td>\n",
       "      <td>0.996801</td>\n",
       "    </tr>\n",
       "    <tr>\n",
       "      <th>3</th>\n",
       "      <td>44296.101419</td>\n",
       "      <td>0.994802</td>\n",
       "    </tr>\n",
       "    <tr>\n",
       "      <th>4</th>\n",
       "      <td>43790.374267</td>\n",
       "      <td>0.992803</td>\n",
       "    </tr>\n",
       "    <tr>\n",
       "      <th>5</th>\n",
       "      <td>43646.945936</td>\n",
       "      <td>0.990804</td>\n",
       "    </tr>\n",
       "    <tr>\n",
       "      <th>6</th>\n",
       "      <td>43501.475933</td>\n",
       "      <td>0.988804</td>\n",
       "    </tr>\n",
       "    <tr>\n",
       "      <th>7</th>\n",
       "      <td>43381.340809</td>\n",
       "      <td>0.986805</td>\n",
       "    </tr>\n",
       "    <tr>\n",
       "      <th>8</th>\n",
       "      <td>43320.855278</td>\n",
       "      <td>0.984806</td>\n",
       "    </tr>\n",
       "    <tr>\n",
       "      <th>9</th>\n",
       "      <td>43292.574573</td>\n",
       "      <td>0.982807</td>\n",
       "    </tr>\n",
       "    <tr>\n",
       "      <th>10</th>\n",
       "      <td>43147.203317</td>\n",
       "      <td>0.980808</td>\n",
       "    </tr>\n",
       "    <tr>\n",
       "      <th>11</th>\n",
       "      <td>43135.093782</td>\n",
       "      <td>0.978808</td>\n",
       "    </tr>\n",
       "    <tr>\n",
       "      <th>12</th>\n",
       "      <td>43035.964299</td>\n",
       "      <td>0.976809</td>\n",
       "    </tr>\n",
       "    <tr>\n",
       "      <th>13</th>\n",
       "      <td>42882.459579</td>\n",
       "      <td>0.974810</td>\n",
       "    </tr>\n",
       "    <tr>\n",
       "      <th>14</th>\n",
       "      <td>42880.468334</td>\n",
       "      <td>0.972811</td>\n",
       "    </tr>\n",
       "    <tr>\n",
       "      <th>15</th>\n",
       "      <td>42878.046908</td>\n",
       "      <td>0.970812</td>\n",
       "    </tr>\n",
       "    <tr>\n",
       "      <th>16</th>\n",
       "      <td>42795.271992</td>\n",
       "      <td>0.968812</td>\n",
       "    </tr>\n",
       "    <tr>\n",
       "      <th>17</th>\n",
       "      <td>42728.317056</td>\n",
       "      <td>0.966813</td>\n",
       "    </tr>\n",
       "    <tr>\n",
       "      <th>18</th>\n",
       "      <td>42613.216831</td>\n",
       "      <td>0.964814</td>\n",
       "    </tr>\n",
       "    <tr>\n",
       "      <th>19</th>\n",
       "      <td>42490.743895</td>\n",
       "      <td>0.962815</td>\n",
       "    </tr>\n",
       "    <tr>\n",
       "      <th>20</th>\n",
       "      <td>42423.960342</td>\n",
       "      <td>0.960816</td>\n",
       "    </tr>\n",
       "    <tr>\n",
       "      <th>21</th>\n",
       "      <td>42371.631324</td>\n",
       "      <td>0.958816</td>\n",
       "    </tr>\n",
       "    <tr>\n",
       "      <th>22</th>\n",
       "      <td>42358.692921</td>\n",
       "      <td>0.956817</td>\n",
       "    </tr>\n",
       "    <tr>\n",
       "      <th>23</th>\n",
       "      <td>42283.230908</td>\n",
       "      <td>0.954818</td>\n",
       "    </tr>\n",
       "    <tr>\n",
       "      <th>24</th>\n",
       "      <td>42145.816030</td>\n",
       "      <td>0.952819</td>\n",
       "    </tr>\n",
       "    <tr>\n",
       "      <th>25</th>\n",
       "      <td>42141.573440</td>\n",
       "      <td>0.950820</td>\n",
       "    </tr>\n",
       "  </tbody>\n",
       "</table>\n",
       "</div>"
      ],
      "text/plain": [
       "     Sorted mean  mean_CDF\n",
       "0   46387.654741  1.000000\n",
       "1   46312.470576  0.998800\n",
       "2   46187.163635  0.996801\n",
       "3   44296.101419  0.994802\n",
       "4   43790.374267  0.992803\n",
       "5   43646.945936  0.990804\n",
       "6   43501.475933  0.988804\n",
       "7   43381.340809  0.986805\n",
       "8   43320.855278  0.984806\n",
       "9   43292.574573  0.982807\n",
       "10  43147.203317  0.980808\n",
       "11  43135.093782  0.978808\n",
       "12  43035.964299  0.976809\n",
       "13  42882.459579  0.974810\n",
       "14  42880.468334  0.972811\n",
       "15  42878.046908  0.970812\n",
       "16  42795.271992  0.968812\n",
       "17  42728.317056  0.966813\n",
       "18  42613.216831  0.964814\n",
       "19  42490.743895  0.962815\n",
       "20  42423.960342  0.960816\n",
       "21  42371.631324  0.958816\n",
       "22  42358.692921  0.956817\n",
       "23  42283.230908  0.954818\n",
       "24  42145.816030  0.952819\n",
       "25  42141.573440  0.950820"
      ]
     },
     "execution_count": 26,
     "metadata": {},
     "output_type": "execute_result"
    }
   ],
   "source": [
    "#Making the dataframe for upper 95% mean values\n",
    "df_95mean=pd.DataFrame(list(zip(meansort, mean_CDF)),\n",
    "              columns=['Sorted mean','mean_CDF'])\n",
    "df_95mean=df_95mean[df_95mean['mean_CDF']>=0.95]\n",
    "df_95mean"
   ]
  },
  {
   "cell_type": "code",
   "execution_count": 31,
   "metadata": {},
   "outputs": [
    {
     "data": {
      "text/html": [
       "<div>\n",
       "<style scoped>\n",
       "    .dataframe tbody tr th:only-of-type {\n",
       "        vertical-align: middle;\n",
       "    }\n",
       "\n",
       "    .dataframe tbody tr th {\n",
       "        vertical-align: top;\n",
       "    }\n",
       "\n",
       "    .dataframe thead th {\n",
       "        text-align: right;\n",
       "    }\n",
       "</style>\n",
       "<table border=\"1\" class=\"dataframe\">\n",
       "  <thead>\n",
       "    <tr style=\"text-align: right;\">\n",
       "      <th></th>\n",
       "      <th>Sorted sd</th>\n",
       "      <th>sd_CDF</th>\n",
       "    </tr>\n",
       "  </thead>\n",
       "  <tbody>\n",
       "    <tr>\n",
       "      <th>0</th>\n",
       "      <td>29593.248214</td>\n",
       "      <td>1.000000</td>\n",
       "    </tr>\n",
       "    <tr>\n",
       "      <th>1</th>\n",
       "      <td>28962.552148</td>\n",
       "      <td>0.998800</td>\n",
       "    </tr>\n",
       "    <tr>\n",
       "      <th>2</th>\n",
       "      <td>27911.392039</td>\n",
       "      <td>0.996801</td>\n",
       "    </tr>\n",
       "    <tr>\n",
       "      <th>3</th>\n",
       "      <td>27509.981829</td>\n",
       "      <td>0.994802</td>\n",
       "    </tr>\n",
       "    <tr>\n",
       "      <th>4</th>\n",
       "      <td>27216.878036</td>\n",
       "      <td>0.992803</td>\n",
       "    </tr>\n",
       "    <tr>\n",
       "      <th>5</th>\n",
       "      <td>26710.755336</td>\n",
       "      <td>0.990804</td>\n",
       "    </tr>\n",
       "    <tr>\n",
       "      <th>6</th>\n",
       "      <td>26391.879416</td>\n",
       "      <td>0.988804</td>\n",
       "    </tr>\n",
       "    <tr>\n",
       "      <th>7</th>\n",
       "      <td>26351.576629</td>\n",
       "      <td>0.986805</td>\n",
       "    </tr>\n",
       "    <tr>\n",
       "      <th>8</th>\n",
       "      <td>26344.159384</td>\n",
       "      <td>0.984806</td>\n",
       "    </tr>\n",
       "    <tr>\n",
       "      <th>9</th>\n",
       "      <td>26243.400111</td>\n",
       "      <td>0.982807</td>\n",
       "    </tr>\n",
       "    <tr>\n",
       "      <th>10</th>\n",
       "      <td>26240.984782</td>\n",
       "      <td>0.980808</td>\n",
       "    </tr>\n",
       "    <tr>\n",
       "      <th>11</th>\n",
       "      <td>26157.553538</td>\n",
       "      <td>0.978808</td>\n",
       "    </tr>\n",
       "    <tr>\n",
       "      <th>12</th>\n",
       "      <td>26034.338648</td>\n",
       "      <td>0.976809</td>\n",
       "    </tr>\n",
       "    <tr>\n",
       "      <th>13</th>\n",
       "      <td>25866.261004</td>\n",
       "      <td>0.974810</td>\n",
       "    </tr>\n",
       "    <tr>\n",
       "      <th>14</th>\n",
       "      <td>25693.914647</td>\n",
       "      <td>0.972811</td>\n",
       "    </tr>\n",
       "    <tr>\n",
       "      <th>15</th>\n",
       "      <td>25527.816471</td>\n",
       "      <td>0.970812</td>\n",
       "    </tr>\n",
       "    <tr>\n",
       "      <th>16</th>\n",
       "      <td>25444.615403</td>\n",
       "      <td>0.968812</td>\n",
       "    </tr>\n",
       "    <tr>\n",
       "      <th>17</th>\n",
       "      <td>25416.492775</td>\n",
       "      <td>0.966813</td>\n",
       "    </tr>\n",
       "    <tr>\n",
       "      <th>18</th>\n",
       "      <td>25364.687470</td>\n",
       "      <td>0.964814</td>\n",
       "    </tr>\n",
       "    <tr>\n",
       "      <th>19</th>\n",
       "      <td>25290.725256</td>\n",
       "      <td>0.962815</td>\n",
       "    </tr>\n",
       "    <tr>\n",
       "      <th>20</th>\n",
       "      <td>25243.953003</td>\n",
       "      <td>0.960816</td>\n",
       "    </tr>\n",
       "    <tr>\n",
       "      <th>21</th>\n",
       "      <td>25171.843227</td>\n",
       "      <td>0.958816</td>\n",
       "    </tr>\n",
       "    <tr>\n",
       "      <th>22</th>\n",
       "      <td>24804.044339</td>\n",
       "      <td>0.956817</td>\n",
       "    </tr>\n",
       "    <tr>\n",
       "      <th>23</th>\n",
       "      <td>24792.129330</td>\n",
       "      <td>0.954818</td>\n",
       "    </tr>\n",
       "    <tr>\n",
       "      <th>24</th>\n",
       "      <td>24734.351281</td>\n",
       "      <td>0.952819</td>\n",
       "    </tr>\n",
       "    <tr>\n",
       "      <th>25</th>\n",
       "      <td>24606.587991</td>\n",
       "      <td>0.950820</td>\n",
       "    </tr>\n",
       "  </tbody>\n",
       "</table>\n",
       "</div>"
      ],
      "text/plain": [
       "       Sorted sd    sd_CDF\n",
       "0   29593.248214  1.000000\n",
       "1   28962.552148  0.998800\n",
       "2   27911.392039  0.996801\n",
       "3   27509.981829  0.994802\n",
       "4   27216.878036  0.992803\n",
       "5   26710.755336  0.990804\n",
       "6   26391.879416  0.988804\n",
       "7   26351.576629  0.986805\n",
       "8   26344.159384  0.984806\n",
       "9   26243.400111  0.982807\n",
       "10  26240.984782  0.980808\n",
       "11  26157.553538  0.978808\n",
       "12  26034.338648  0.976809\n",
       "13  25866.261004  0.974810\n",
       "14  25693.914647  0.972811\n",
       "15  25527.816471  0.970812\n",
       "16  25444.615403  0.968812\n",
       "17  25416.492775  0.966813\n",
       "18  25364.687470  0.964814\n",
       "19  25290.725256  0.962815\n",
       "20  25243.953003  0.960816\n",
       "21  25171.843227  0.958816\n",
       "22  24804.044339  0.956817\n",
       "23  24792.129330  0.954818\n",
       "24  24734.351281  0.952819\n",
       "25  24606.587991  0.950820"
      ]
     },
     "execution_count": 31,
     "metadata": {},
     "output_type": "execute_result"
    }
   ],
   "source": [
    "#Making the dataframe for upper 95% stdev values\n",
    "df_95sd=pd.DataFrame(list(zip(sdsort, sd_CDF)),\n",
    "              columns=['Sorted sd','sd_CDF'])\n",
    "df_95sd=df_95sd[df_95sd['sd_CDF']>=0.95]\n",
    "df_95sd"
   ]
  },
  {
   "cell_type": "markdown",
   "metadata": {},
   "source": [
    "E) Using the sample mean and standard deviation from the 1977-2017 data in problem 1, what would you conclude about the statistical significance of these values (alpha = 0.05). That is, based on the quantiles from your Monte Carlo analysis, are the observed values from 1977-2017 statistically significant for alpha = 0.05. Are these conclusions substantially different from those in Problem 1 part B and E? (In other words, compare P in the two tests. You can determine P by the quantile values associated with the CDFs you generated here.)\n",
    "\n",
    "print 大表然后用数据mean，std查表确定P ？\n",
    "后与 B E问比较？"
   ]
  },
  {
   "cell_type": "code",
   "execution_count": 34,
   "metadata": {},
   "outputs": [
    {
     "name": "stdout",
     "output_type": "stream",
     "text": [
      "Mean of Sauk data= 36195.2808988764\n",
      "Stdev of Sauk data= 19589.376396856664\n"
     ]
    }
   ],
   "source": [
    "mean_sk=np.mean(df_sk['peak_va'])\n",
    "std_sk=np.std(df_sk['peak_va'])\n",
    "print('Mean of Sauk data=',mean_sk)\n",
    "print('Stdev of Sauk data=',std_sk)"
   ]
  },
  {
   "cell_type": "markdown",
   "metadata": {},
   "source": [
    "# Problem 3: Course Project Selection (Graduate Students only)\n",
    "\n",
    " \n",
    "\n",
    "Write a brief paragraph (3-9 sentences) describing your term project. Include the name of your partner (or specify you will be doing the project alone), the data you will analyze, and which question(s) you will answer. Which statistical tools will you use? If you have a hypothesis to test, write it down. If you have questions about the project, now is the time to talk to the instructor."
   ]
  }
 ],
 "metadata": {
  "kernelspec": {
   "display_name": "Python 3",
   "language": "python",
   "name": "python3"
  },
  "language_info": {
   "codemirror_mode": {
    "name": "ipython",
    "version": 3
   },
   "file_extension": ".py",
   "mimetype": "text/x-python",
   "name": "python",
   "nbconvert_exporter": "python",
   "pygments_lexer": "ipython3",
   "version": "3.6.3"
  }
 },
 "nbformat": 4,
 "nbformat_minor": 2
}
