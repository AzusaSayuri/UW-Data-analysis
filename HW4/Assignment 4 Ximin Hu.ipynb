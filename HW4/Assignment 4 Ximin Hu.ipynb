{
 "cells": [
  {
   "cell_type": "markdown",
   "metadata": {},
   "source": [
    "# Homework 4\n",
    "\n",
    "# Problem 1\n",
    "\n",
    "\n",
    "Data:\t\n",
    "cascades_swe.xlsx\n",
    "The data in the first three columns are values for total precipitation (mm), daily maximum temperature (°C ), and daily minimum temperature (°C) averaged from October-March over the Pacific Northwest Cascades in WA in OR. The fourth column is an estimate of April 1 snow water equivalent (in mm, the water content of the snowpack) from model simulations, averaged over the same domain."
   ]
  },
  {
   "cell_type": "code",
   "execution_count": 1,
   "metadata": {},
   "outputs": [],
   "source": [
    "import numpy as np\n",
    "import pandas as pd\n",
    "import matplotlib.pyplot as plt\n",
    "import scipy.stats as st\n",
    "\n",
    "%matplotlib inline"
   ]
  },
  {
   "cell_type": "markdown",
   "metadata": {},
   "source": [
    "## A. \n",
    "\n",
    "Calculate the long-term trend in April 1 SWE from 1916-2003 by fitting a linear model to the data. Estimate the uncertainty in the trend by evaluating a 95% confidence interval around the estimate of B1. That is:\n",
    "\n",
    "Trend = X ± Y\n",
    "\n",
    "Is the trend statistically significant with 95% confidence? I.e. can we reject the null hypothesis that the trend is equal to zero?"
   ]
  },
  {
   "cell_type": "code",
   "execution_count": 2,
   "metadata": {},
   "outputs": [],
   "source": [
    "df_1=pd.read_excel('cascades_swe.xlsx')"
   ]
  },
  {
   "cell_type": "code",
   "execution_count": 35,
   "metadata": {},
   "outputs": [
    {
     "data": {
      "text/html": [
       "<div>\n",
       "<style scoped>\n",
       "    .dataframe tbody tr th:only-of-type {\n",
       "        vertical-align: middle;\n",
       "    }\n",
       "\n",
       "    .dataframe tbody tr th {\n",
       "        vertical-align: top;\n",
       "    }\n",
       "\n",
       "    .dataframe thead th {\n",
       "        text-align: right;\n",
       "    }\n",
       "</style>\n",
       "<table border=\"1\" class=\"dataframe\">\n",
       "  <thead>\n",
       "    <tr style=\"text-align: right;\">\n",
       "      <th></th>\n",
       "      <th>year</th>\n",
       "      <th>precip</th>\n",
       "      <th>tmax</th>\n",
       "      <th>tmin</th>\n",
       "      <th>SWE</th>\n",
       "    </tr>\n",
       "  </thead>\n",
       "  <tbody>\n",
       "    <tr>\n",
       "      <th>0</th>\n",
       "      <td>1916</td>\n",
       "      <td>1154.57</td>\n",
       "      <td>5.03776</td>\n",
       "      <td>-5.06206</td>\n",
       "      <td>393.719</td>\n",
       "    </tr>\n",
       "    <tr>\n",
       "      <th>1</th>\n",
       "      <td>1917</td>\n",
       "      <td>820.952</td>\n",
       "      <td>4.56727</td>\n",
       "      <td>-6.50644</td>\n",
       "      <td>377.514</td>\n",
       "    </tr>\n",
       "    <tr>\n",
       "      <th>2</th>\n",
       "      <td>1918</td>\n",
       "      <td>1095.65</td>\n",
       "      <td>7.86584</td>\n",
       "      <td>-3.23471</td>\n",
       "      <td>310.131</td>\n",
       "    </tr>\n",
       "    <tr>\n",
       "      <th>3</th>\n",
       "      <td>1919</td>\n",
       "      <td>1041.05</td>\n",
       "      <td>5.80953</td>\n",
       "      <td>-4.22977</td>\n",
       "      <td>287.759</td>\n",
       "    </tr>\n",
       "    <tr>\n",
       "      <th>4</th>\n",
       "      <td>1920</td>\n",
       "      <td>817.106</td>\n",
       "      <td>5.14475</td>\n",
       "      <td>-5.36376</td>\n",
       "      <td>237.118</td>\n",
       "    </tr>\n",
       "  </tbody>\n",
       "</table>\n",
       "</div>"
      ],
      "text/plain": [
       "   year   precip     tmax     tmin      SWE\n",
       "0  1916  1154.57  5.03776 -5.06206  393.719\n",
       "1  1917  820.952  4.56727 -6.50644  377.514\n",
       "2  1918  1095.65  7.86584 -3.23471  310.131\n",
       "3  1919  1041.05  5.80953 -4.22977  287.759\n",
       "4  1920  817.106  5.14475 -5.36376  237.118"
      ]
     },
     "execution_count": 35,
     "metadata": {},
     "output_type": "execute_result"
    }
   ],
   "source": [
    "cols=['year','precip','tmax','tmin','SWE']\n",
    "df_cas=df_1.iloc[8:,1:6].copy()\n",
    "df_cas.columns=cols\n",
    "df_cas=df_cas.reset_index()\n",
    "df_cas=df_cas.drop(columns='index')\n",
    "df_cas['year']=df_cas['year'].astype(int)\n",
    "df_cas['SWE']=df_cas['SWE'].astype(float)\n",
    "df_cas.head()"
   ]
  },
  {
   "cell_type": "code",
   "execution_count": 39,
   "metadata": {},
   "outputs": [
    {
     "name": "stdout",
     "output_type": "stream",
     "text": [
      "[-5.85100129e-01  1.41575367e+03]\n"
     ]
    }
   ],
   "source": [
    "n = df_cas['year'].size\n",
    "Bv2 = np.polyfit(df_cas['year'],df_cas['SWE'],1)\n",
    "print(Bv2)\n",
    "\n",
    "x = np.linspace(np.min(df_cas['year']), np.max(df_cas['year']),n)\n",
    "y = Bv2[1] + Bv2[0]*x"
   ]
  },
  {
   "cell_type": "code",
   "execution_count": 42,
   "metadata": {},
   "outputs": [
    {
     "data": {
      "text/plain": [
       "<matplotlib.legend.Legend at 0xc8a33c8>"
      ]
     },
     "execution_count": 42,
     "metadata": {},
     "output_type": "execute_result"
    },
    {
     "data": {
      "image/png": "[encoded data removed]",
      "text/plain": [
       "<Figure size 432x288 with 1 Axes>"
      ]
     },
     "metadata": {
      "needs_background": "light"
     },
     "output_type": "display_data"
    }
   ],
   "source": [
    "#fit the linear regression model\n",
    "\n",
    "plt.plot(df_cas['year'],df_cas['SWE'],'k+',label='April 1 SWE')\n",
    "plt.plot(x,y,'r-',label='Linear Regression');\n",
    "plt.xlabel('Water Year')\n",
    "plt.ylabel('SWE (mm)')\n",
    "plt.title('Time trend for April 1 SWE')\n",
    "plt.legend()"
   ]
  },
  {
   "cell_type": "code",
   "execution_count": 43,
   "metadata": {},
   "outputs": [],
   "source": [
    "#Adapted from Lab 4.1 for the mann kendall test\n",
    "\n",
    "def mann_kendall(V,alpha):\n",
    "    '''Mann Kendall Test (adapted from original Matlab function)\n",
    "       Performs original Mann-Kendall test of the null hypothesis of trend absence in the vector V,  \n",
    "       against the alternative of trend.\n",
    "       The result of the test is returned in H = False indicates a rejection of the null hypothesis at \n",
    "       the alpha significance level. \n",
    "       H = True indicates a failure to reject the null hypothesis at the alpha significance level.\n",
    "       \n",
    "       INPUTS:\n",
    "       V = time series [vector]\n",
    "       alpha =  significance level of the test [scalar] (i.e. for 95% confidence, alpha=0.05)\n",
    "       OUTPUTS:\n",
    "       H = test result [1] Reject of Null Hypthesis [0] Insufficient evidence to reject the null hypothesis\n",
    "       p_value = p-value of the test\n",
    "       \n",
    "       From Original Matlab Help Documentation:\n",
    "       The significance level of a test is a threshold of probability a agreed\n",
    "       to before the test is conducted. A typical value of alpha is 0.05. If the p-value of a test is less than alpha,\n",
    "       the test rejects the null hypothesis. If the p-value is greater than alpha, there is insufficient evidence \n",
    "       to reject the null hypothesis. \n",
    "       The p-value of a test is the probability, under the null hypothesis, of obtaining a value\n",
    "       of the test statistic as extreme or more extreme than the value computed from\n",
    "       the sample.\n",
    "       \n",
    "       References \n",
    "       Mann, H. B. (1945), Nonparametric tests against trend, Econometrica, 13, 245-259.\n",
    "       Kendall, M. G. (1975), Rank Correlation Methods, Griffin, London.\n",
    "       \n",
    "       Original written by Simone Fatichi - simonef@dicea.unifi.it\n",
    "       Copyright 2009\n",
    "       $Date: 2009/10/03 $\n",
    "       modified: E.I. (1/12/2012)\n",
    "       modified for python: Steven Pestana - spestana@uw.edu (10/17/2019)\n",
    "       '''\n",
    "    \n",
    "    V = np.reshape(V, len(V), 1)\n",
    "    alpha = alpha/2\n",
    "    n = len(V)\n",
    "    S = 0\n",
    "\n",
    "    for i in range(0, n-1):\n",
    "        for j in range(i+1, n):\n",
    "            if V[j]>V[i]:\n",
    "                S = S+1\n",
    "            if V[j]<V[i]:\n",
    "                S = S-1\n",
    "\n",
    "    VarS = (n*(n-1)*(2*n+5))/18\n",
    "    StdS = np.sqrt(VarS)\n",
    "    # Ties are not considered\n",
    "\n",
    "    # Kendall tau correction coefficient\n",
    "    Kendall_Tau = S/(n*(n-1)/2)\n",
    "    if S>=0:\n",
    "        if S==0:\n",
    "             Z = 0\n",
    "        else:\n",
    "            Z = ((S-1)/StdS)\n",
    "    else:\n",
    "        Z = (S+1)/StdS\n",
    "\n",
    "    Zalpha = st.norm.ppf(1-alpha,0,1)\n",
    "    p_value = 2*(1-st.norm.cdf(abs(Z), 0, 1)) #Two-tailed test p-value\n",
    "\n",
    "    H = abs(Z) > Zalpha\n",
    "    \n",
    "    return H, p_value"
   ]
  },
  {
   "cell_type": "code",
   "execution_count": 50,
   "metadata": {},
   "outputs": [
    {
     "name": "stdout",
     "output_type": "stream",
     "text": [
      "Can we reject the null hypothesis at 95% confidence for April 1 SWE trend?\n",
      "False\n",
      "\n"
     ]
    }
   ],
   "source": [
    "alpha = 0.05\n",
    "\n",
    "H, p_value = mann_kendall(df_cas['SWE'],alpha)\n",
    "print('Can we reject the null hypothesis at 95% confidence for April 1 SWE trend?\\n{}\\n'.format(H))"
   ]
  },
  {
   "cell_type": "markdown",
   "metadata": {},
   "source": [
    "## B.\n",
    "\n",
    "Repeat this analysis for only the more recent period 1950-2003."
   ]
  },
  {
   "cell_type": "code",
   "execution_count": 59,
   "metadata": {},
   "outputs": [],
   "source": [
    "df_rec=df_cas[df_cas['year']>=1950]\n",
    "df_rec=df_rec.reset_index()\n",
    "df_rec=df_rec.drop(columns='index')"
   ]
  },
  {
   "cell_type": "code",
   "execution_count": 60,
   "metadata": {},
   "outputs": [
    {
     "name": "stdout",
     "output_type": "stream",
     "text": [
      "[-1.73900705e+00  3.70328747e+03]\n"
     ]
    },
    {
     "data": {
      "text/plain": [
       "<matplotlib.legend.Legend at 0xcaa3ac8>"
      ]
     },
     "execution_count": 60,
     "metadata": {},
     "output_type": "execute_result"
    },
    {
     "data": {
      "image/png": "[encoded data removed]",
      "text/plain": [
       "<Figure size 432x288 with 1 Axes>"
      ]
     },
     "metadata": {
      "needs_background": "light"
     },
     "output_type": "display_data"
    }
   ],
   "source": [
    "n = df_rec['year'].size\n",
    "Bv2 = np.polyfit(df_rec['year'],df_rec['SWE'],1)\n",
    "print(Bv2)\n",
    "\n",
    "x = np.linspace(np.min(df_rec['year']), np.max(df_rec['year']),n)\n",
    "y = Bv2[1] + Bv2[0]*x\n",
    "\n",
    "#fit & plot the linear regression model\n",
    "\n",
    "plt.plot(df_rec['year'],df_rec['SWE'],'k+',label='April 1 SWE')\n",
    "plt.plot(x,y,'r-',label='Linear Regression');\n",
    "plt.xlabel('Water Year')\n",
    "plt.ylabel('SWE (mm)')\n",
    "plt.title('Time trend for April 1 SWE from 1950-2003')\n",
    "plt.legend()"
   ]
  },
  {
   "cell_type": "code",
   "execution_count": 61,
   "metadata": {},
   "outputs": [
    {
     "name": "stdout",
     "output_type": "stream",
     "text": [
      "Can we reject the null hypothesis at 95% confidence for April 1 SWE trend in more recent period?\n",
      "True\n",
      "\n"
     ]
    }
   ],
   "source": [
    "#Analysis on the trend for the recent period\n",
    "\n",
    "alpha = 0.05\n",
    "\n",
    "H, p_value = mann_kendall(df_rec['SWE'],alpha)\n",
    "print('Can we reject the null hypothesis at 95% confidence for April 1 SWE trend in more recent period?\\n{}\\n'.format(H))"
   ]
  },
  {
   "cell_type": "markdown",
   "metadata": {},
   "source": [
    "# Problem 2\n",
    "\n",
    "Continue using the cascades_swe dataset for this problem. Begin by making scatterplots of each of these variables vs. all the other variables. One nice way to do this is as illustrated in Helsel and Hirsch Figure 2.39 on page 61 – this is not required, you can plot in whatever way works best for you."
   ]
  },
  {
   "cell_type": "markdown",
   "metadata": {},
   "source": [
    "## A.\n",
    "\n",
    "Calculate the correlation (R) between April 1 SWE and the three meteorological variables (precipitation, max. temperature and min. temperature), and also between all unique combinations of the meteorological variables."
   ]
  },
  {
   "cell_type": "markdown",
   "metadata": {},
   "source": [
    "## B.\n",
    "\n",
    "Calculate the autocorrelation in precipitation, maximum temperature and minimum temperature. Can we consider each of these values to be an independent sample? Or do some of them depend on the prior year’s sample?\n",
    "       \n",
    "       Note: We can test for autocorrelation at different lags, but not for any lag longer than a quarter of the length of the data series. Therefore, test for lags from 1 to N/4, where N is the length of the data series. Determine at which of these lags the autocorrelation is different than 0 with 95% confidence."
   ]
  },
  {
   "cell_type": "markdown",
   "metadata": {},
   "source": [
    "## C.\n",
    "\n",
    "Fit a multiple linear regression model to the data, using all three meteorological variables to predict April 1 SWE. Also calculate the trend in each meteorological variable. Estimate the overall trend in SWE, and trend due to each meteorological variable alone. How much of the overall trend is due to the combined effects of trends in both tmax and tmin?"
   ]
  },
  {
   "cell_type": "markdown",
   "metadata": {},
   "source": [
    "## D. \n",
    "\n",
    "Finally carry out a Mann-Kendall test on the 1950-2003 April 1 SWE data. Is the trend significant according to this test? Compare your answer with your regression analysis for the same data in Problem 2B.\n",
    "\n",
    "      Note, for this problem you do not need to worry about the tie statistic."
   ]
  },
  {
   "cell_type": "markdown",
   "metadata": {},
   "source": [
    "# Problem 3: Calculating a rating curve and associated uncertainty\n",
    "\n",
    "Download Tuolumne_120_stage_Q_2002_2018_forclass.csv (also available in the data folder or the Homework 4 folder on the class Canvas website). Make a scatter plot of stage (in cm) vs. discharge (in cms). You may want to look at Venetis_1970.pdf (also available in the Readings/Rating_Curve_Analysis folder on Canvas).\n",
    "\n",
    "Data:\t\n",
    "Tuolumne_120_stage_Q_2002_2018_forclass.csv\n",
    "Resources:\t\n",
    "Venetis_1970_log_discharge_uncertainty.pdf\n",
    "Plot the data, assume that h0 =70 cm, the stage height at which flow stops. This is a guess, but for now, we’ll assume this is truth. Use linear regression with transformed variables to fit an equation of the form Q=a(h-h0)b to the data, to determine a and b, where Q is discharge in cms, and h is stage in cm. Determine 95% confidence intervals for b (note this corresponds to B1 in class lecture) and for log(Q). Transform the mean, upper, and lower confidence intervals for log(Q) back to Q, and plot the rating curve with confidence intervals and the original data.\n",
    "\n",
    "Now, assume that we don’t know at what level flow stops. Repeat the above for h0 = 60, 65, 70, 75, and 80 cm. Recalculate a, b, log(Q), and Q for each of these. Don’t worry about 95% uncertainty in this example. Make a plot showing stage (h) vs. Q for each of these 5 cases. Is the range between these 5 lines larger or smaller than the range between the 95% confidence lines that you generated before? Note that we did not explicitly account for uncertainty in h0 in generating those 95% confidence lines. Based on what you have plotted here, is that an okay thing to do or not?\n",
    "\n",
    "The data provided in the file also have uncertainty associated with them. Describe in a couple sentences how you would account for this uncertainty. (Note that you do not need to do more calculations. Just write a couple sentences about things you might do.)"
   ]
  }
 ],
 "metadata": {
  "kernelspec": {
   "display_name": "Python 3",
   "language": "python",
   "name": "python3"
  },
  "language_info": {
   "codemirror_mode": {
    "name": "ipython",
    "version": 3
   },
   "file_extension": ".py",
   "mimetype": "text/x-python",
   "name": "python",
   "nbconvert_exporter": "python",
   "pygments_lexer": "ipython3",
   "version": "3.6.8"
  }
 },
 "nbformat": 4,
 "nbformat_minor": 2
}
