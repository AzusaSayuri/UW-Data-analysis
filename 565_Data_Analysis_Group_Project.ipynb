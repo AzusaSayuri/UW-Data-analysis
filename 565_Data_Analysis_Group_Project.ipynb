{
  "nbformat": 4,
  "nbformat_minor": 0,
  "metadata": {
    "colab": {
      "name": "565-Data Analysis Group Project.ipynb",
      "provenance": [],
      "include_colab_link": true
    },
    "kernelspec": {
      "name": "python3",
      "display_name": "Python 3"
    }
  },
  "cells": [
    {
      "cell_type": "markdown",
      "metadata": {
        "id": "view-in-github",
        "colab_type": "text"
      },
      "source": [
        "<a href=\"https://colab.research.google.com/github/AzusaSayuri/UW-Data-analysis/blob/master/565_Data_Analysis_Group_Project.ipynb\" target=\"_parent\"><img src=\"https://colab.research.google.com/assets/colab-badge.svg\" alt=\"Open In Colab\"/></a>"
      ]
    },
    {
      "cell_type": "code",
      "metadata": {
        "id": "PTvundMQCw1i",
        "colab_type": "code",
        "colab": {}
      },
      "source": [
        "import pandas as pd\n",
        "import numpy as np\n",
        "import matplotlib.pyplot as plt"
      ],
      "execution_count": 0,
      "outputs": []
    },
    {
      "cell_type": "code",
      "metadata": {
        "id": "1yaCQT6xC9C2",
        "colab_type": "code",
        "colab": {
          "base_uri": "https://localhost:8080/",
          "height": 51
        },
        "outputId": "ff1d8384-082e-46c0-e63e-2346fbdd559f"
      },
      "source": [
        "df=pd.read_csv('Lyell_blw_Maclure_timeseries_stage_Q_T_2005_2015.csv')"
      ],
      "execution_count": 3,
      "outputs": [
        {
          "output_type": "stream",
          "text": [
            "/usr/local/lib/python3.6/dist-packages/IPython/core/interactiveshell.py:2718: DtypeWarning: Columns (2) have mixed types. Specify dtype option on import or set low_memory=False.\n",
            "  interactivity=interactivity, compiler=compiler, result=result)\n"
          ],
          "name": "stderr"
        }
      ]
    },
    {
      "cell_type": "code",
      "metadata": {
        "id": "nbGoxbMOD90a",
        "colab_type": "code",
        "colab": {
          "base_uri": "https://localhost:8080/",
          "height": 224
        },
        "outputId": "7c52af18-9d57-4b57-94fe-104f105de58b"
      },
      "source": [
        "df.head()"
      ],
      "execution_count": 4,
      "outputs": [
        {
          "output_type": "execute_result",
          "data": {
            "text/html": [
              "<div>\n",
              "<style scoped>\n",
              "    .dataframe tbody tr th:only-of-type {\n",
              "        vertical-align: middle;\n",
              "    }\n",
              "\n",
              "    .dataframe tbody tr th {\n",
              "        vertical-align: top;\n",
              "    }\n",
              "\n",
              "    .dataframe thead th {\n",
              "        text-align: right;\n",
              "    }\n",
              "</style>\n",
              "<table border=\"1\" class=\"dataframe\">\n",
              "  <thead>\n",
              "    <tr style=\"text-align: right;\">\n",
              "      <th></th>\n",
              "      <th>date_time(inGMT_PDTplus7)</th>\n",
              "      <th>raw_pressure(cm)</th>\n",
              "      <th>barocorrected_pressure(cm)</th>\n",
              "      <th>stage_in_feet(used_in_rating_curve_ft_referenced_to_bolt)</th>\n",
              "      <th>estimated_discharge(cms)</th>\n",
              "      <th>lower_confidence_discharge_cms_bestestimate</th>\n",
              "      <th>upper_confidence_discharge_cms_bestestimate</th>\n",
              "      <th>water_temperature(deg_C)</th>\n",
              "      <th>instrument_ID</th>\n",
              "      <th>offset_cm(cm_to_correct_solinst_to_bolt)</th>\n",
              "      <th>offset_ft(ft_to_correct_solinst_to_bolt)</th>\n",
              "    </tr>\n",
              "  </thead>\n",
              "  <tbody>\n",
              "    <tr>\n",
              "      <th>0</th>\n",
              "      <td>7/16/2004 0:00</td>\n",
              "      <td>137.3</td>\n",
              "      <td>67.8</td>\n",
              "      <td>7.47</td>\n",
              "      <td>1.060134</td>\n",
              "      <td>0.76902</td>\n",
              "      <td>1.6390</td>\n",
              "      <td>13.10</td>\n",
              "      <td>1</td>\n",
              "      <td>159.9</td>\n",
              "      <td>5.2</td>\n",
              "    </tr>\n",
              "    <tr>\n",
              "      <th>1</th>\n",
              "      <td>7/16/2004 0:30</td>\n",
              "      <td>137.5</td>\n",
              "      <td>68.7</td>\n",
              "      <td>7.9</td>\n",
              "      <td>2.206635</td>\n",
              "      <td>1.42760</td>\n",
              "      <td>2.8168</td>\n",
              "      <td>12.94</td>\n",
              "      <td>1</td>\n",
              "      <td>172.1</td>\n",
              "      <td>5.6</td>\n",
              "    </tr>\n",
              "    <tr>\n",
              "      <th>2</th>\n",
              "      <td>7/16/2004 1:00</td>\n",
              "      <td>138.7</td>\n",
              "      <td>69.9</td>\n",
              "      <td>7.94</td>\n",
              "      <td>2.327409</td>\n",
              "      <td>1.49000</td>\n",
              "      <td>2.9200</td>\n",
              "      <td>12.69</td>\n",
              "      <td>1</td>\n",
              "      <td>172.1</td>\n",
              "      <td>5.6</td>\n",
              "    </tr>\n",
              "    <tr>\n",
              "      <th>3</th>\n",
              "      <td>7/16/2004 1:30</td>\n",
              "      <td>139.5</td>\n",
              "      <td>70.8</td>\n",
              "      <td>7.97</td>\n",
              "      <td>2.419631</td>\n",
              "      <td>1.55075</td>\n",
              "      <td>3.0370</td>\n",
              "      <td>12.35</td>\n",
              "      <td>1</td>\n",
              "      <td>172.1</td>\n",
              "      <td>5.6</td>\n",
              "    </tr>\n",
              "    <tr>\n",
              "      <th>4</th>\n",
              "      <td>7/16/2004 2:00</td>\n",
              "      <td>140.9</td>\n",
              "      <td>72.3</td>\n",
              "      <td>8.02</td>\n",
              "      <td>2.576429</td>\n",
              "      <td>1.65200</td>\n",
              "      <td>3.2320</td>\n",
              "      <td>12.03</td>\n",
              "      <td>1</td>\n",
              "      <td>172.1</td>\n",
              "      <td>5.6</td>\n",
              "    </tr>\n",
              "  </tbody>\n",
              "</table>\n",
              "</div>"
            ],
            "text/plain": [
              "  date_time(inGMT_PDTplus7)  ...   offset_ft(ft_to_correct_solinst_to_bolt)\n",
              "0            7/16/2004 0:00  ...                                        5.2\n",
              "1            7/16/2004 0:30  ...                                        5.6\n",
              "2            7/16/2004 1:00  ...                                        5.6\n",
              "3            7/16/2004 1:30  ...                                        5.6\n",
              "4            7/16/2004 2:00  ...                                        5.6\n",
              "\n",
              "[5 rows x 11 columns]"
            ]
          },
          "metadata": {
            "tags": []
          },
          "execution_count": 4
        }
      ]
    },
    {
      "cell_type": "code",
      "metadata": {
        "id": "cBjMttA7FphJ",
        "colab_type": "code",
        "colab": {
          "base_uri": "https://localhost:8080/",
          "height": 221
        },
        "outputId": "5d5dc075-b6c7-4367-de1b-8096b8613e9c"
      },
      "source": [
        "#Data missing value check and Data cleaning\n",
        "\n",
        "print (df.isnull().sum())"
      ],
      "execution_count": 6,
      "outputs": [
        {
          "output_type": "stream",
          "text": [
            "date_time(inGMT_PDTplus7)                                         0\n",
            " raw_pressure(cm)                                                 0\n",
            " barocorrected_pressure(cm)                                       0\n",
            " stage_in_feet(used_in_rating_curve_ft_referenced_to_bolt)        0\n",
            " estimated_discharge(cms)                                       913\n",
            "lower_confidence_discharge_cms_bestestimate                   28298\n",
            "upper_confidence_discharge_cms_bestestimate                   28871\n",
            " water_temperature(deg_C)                                         0\n",
            " instrument_ID                                                    0\n",
            " offset_cm(cm_to_correct_solinst_to_bolt)                         0\n",
            " offset_ft(ft_to_correct_solinst_to_bolt)                         0\n",
            "dtype: int64\n"
          ],
          "name": "stdout"
        }
      ]
    },
    {
      "cell_type": "code",
      "metadata": {
        "id": "sTRfLU9fGWsQ",
        "colab_type": "code",
        "colab": {}
      },
      "source": [
        "df_clean=df[df[' estimated_discharge(cms)'].isna()==False].head(500)"
      ],
      "execution_count": 0,
      "outputs": []
    },
    {
      "cell_type": "code",
      "metadata": {
        "id": "hlmLM-4VGstm",
        "colab_type": "code",
        "colab": {
          "base_uri": "https://localhost:8080/",
          "height": 286
        },
        "outputId": "467c6029-a9e3-4058-e1a4-a35d9414ec3f"
      },
      "source": [
        "plt.plot(df_clean['date_time(inGMT_PDTplus7)'],df_clean[' estimated_discharge(cms)'])"
      ],
      "execution_count": 27,
      "outputs": [
        {
          "output_type": "execute_result",
          "data": {
            "text/plain": [
              "[<matplotlib.lines.Line2D at 0x7f8166b8dd30>]"
            ]
          },
          "metadata": {
            "tags": []
          },
          "execution_count": 27
        },
        {
          "output_type": "display_data",
          "data": {
            "image/png": "[encoded data removed]",
            "text/plain": [
              "<Figure size 432x288 with 1 Axes>"
            ]
          },
          "metadata": {
            "tags": []
          }
        }
      ]
    },
    {
      "cell_type": "code",
      "metadata": {
        "id": "ZaH9uQGEIINs",
        "colab_type": "code",
        "colab": {
          "base_uri": "https://localhost:8080/",
          "height": 224
        },
        "outputId": "f37ae7c9-433c-428c-893a-af610a4321cd"
      },
      "source": [
        "df_clean.tail()"
      ],
      "execution_count": 28,
      "outputs": [
        {
          "output_type": "execute_result",
          "data": {
            "text/html": [
              "<div>\n",
              "<style scoped>\n",
              "    .dataframe tbody tr th:only-of-type {\n",
              "        vertical-align: middle;\n",
              "    }\n",
              "\n",
              "    .dataframe tbody tr th {\n",
              "        vertical-align: top;\n",
              "    }\n",
              "\n",
              "    .dataframe thead th {\n",
              "        text-align: right;\n",
              "    }\n",
              "</style>\n",
              "<table border=\"1\" class=\"dataframe\">\n",
              "  <thead>\n",
              "    <tr style=\"text-align: right;\">\n",
              "      <th></th>\n",
              "      <th>date_time(inGMT_PDTplus7)</th>\n",
              "      <th>raw_pressure(cm)</th>\n",
              "      <th>barocorrected_pressure(cm)</th>\n",
              "      <th>stage_in_feet(used_in_rating_curve_ft_referenced_to_bolt)</th>\n",
              "      <th>estimated_discharge(cms)</th>\n",
              "      <th>lower_confidence_discharge_cms_bestestimate</th>\n",
              "      <th>upper_confidence_discharge_cms_bestestimate</th>\n",
              "      <th>water_temperature(deg_C)</th>\n",
              "      <th>instrument_ID</th>\n",
              "      <th>offset_cm(cm_to_correct_solinst_to_bolt)</th>\n",
              "      <th>offset_ft(ft_to_correct_solinst_to_bolt)</th>\n",
              "    </tr>\n",
              "  </thead>\n",
              "  <tbody>\n",
              "    <tr>\n",
              "      <th>495</th>\n",
              "      <td>7/26/2004 7:30</td>\n",
              "      <td>135.4</td>\n",
              "      <td>64.2</td>\n",
              "      <td>7.75</td>\n",
              "      <td>1.776521</td>\n",
              "      <td>1.1915</td>\n",
              "      <td>2.42</td>\n",
              "      <td>11.00</td>\n",
              "      <td>1</td>\n",
              "      <td>172.1</td>\n",
              "      <td>5.6</td>\n",
              "    </tr>\n",
              "    <tr>\n",
              "      <th>496</th>\n",
              "      <td>7/26/2004 8:00</td>\n",
              "      <td>135.0</td>\n",
              "      <td>64.2</td>\n",
              "      <td>7.75</td>\n",
              "      <td>1.776521</td>\n",
              "      <td>1.1915</td>\n",
              "      <td>2.42</td>\n",
              "      <td>10.87</td>\n",
              "      <td>1</td>\n",
              "      <td>172.1</td>\n",
              "      <td>5.6</td>\n",
              "    </tr>\n",
              "    <tr>\n",
              "      <th>497</th>\n",
              "      <td>7/26/2004 8:30</td>\n",
              "      <td>134.9</td>\n",
              "      <td>64.1</td>\n",
              "      <td>7.75</td>\n",
              "      <td>1.767380</td>\n",
              "      <td>1.1860</td>\n",
              "      <td>2.41</td>\n",
              "      <td>10.73</td>\n",
              "      <td>1</td>\n",
              "      <td>172.1</td>\n",
              "      <td>5.6</td>\n",
              "    </tr>\n",
              "    <tr>\n",
              "      <th>498</th>\n",
              "      <td>7/26/2004 9:00</td>\n",
              "      <td>135.0</td>\n",
              "      <td>64</td>\n",
              "      <td>7.75</td>\n",
              "      <td>1.758257</td>\n",
              "      <td>1.1805</td>\n",
              "      <td>2.40</td>\n",
              "      <td>10.57</td>\n",
              "      <td>1</td>\n",
              "      <td>172.1</td>\n",
              "      <td>5.6</td>\n",
              "    </tr>\n",
              "    <tr>\n",
              "      <th>499</th>\n",
              "      <td>7/26/2004 9:30</td>\n",
              "      <td>134.5</td>\n",
              "      <td>64.2</td>\n",
              "      <td>7.75</td>\n",
              "      <td>1.776521</td>\n",
              "      <td>1.1915</td>\n",
              "      <td>2.42</td>\n",
              "      <td>10.43</td>\n",
              "      <td>1</td>\n",
              "      <td>172.1</td>\n",
              "      <td>5.6</td>\n",
              "    </tr>\n",
              "  </tbody>\n",
              "</table>\n",
              "</div>"
            ],
            "text/plain": [
              "    date_time(inGMT_PDTplus7)  ...   offset_ft(ft_to_correct_solinst_to_bolt)\n",
              "495            7/26/2004 7:30  ...                                        5.6\n",
              "496            7/26/2004 8:00  ...                                        5.6\n",
              "497            7/26/2004 8:30  ...                                        5.6\n",
              "498            7/26/2004 9:00  ...                                        5.6\n",
              "499            7/26/2004 9:30  ...                                        5.6\n",
              "\n",
              "[5 rows x 11 columns]"
            ]
          },
          "metadata": {
            "tags": []
          },
          "execution_count": 28
        }
      ]
    },
    {
      "cell_type": "code",
      "metadata": {
        "id": "6zeGV8O4IJrE",
        "colab_type": "code",
        "colab": {}
      },
      "source": [
        ""
      ],
      "execution_count": 0,
      "outputs": []
    }
  ]
}